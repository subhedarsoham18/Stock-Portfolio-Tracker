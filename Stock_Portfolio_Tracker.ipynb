{
  "nbformat": 4,
  "nbformat_minor": 0,
  "metadata": {
    "colab": {
      "provenance": [],
      "authorship_tag": "ABX9TyMlW6bUfrVZdGrelz/otI91",
      "include_colab_link": true
    },
    "kernelspec": {
      "name": "python3",
      "display_name": "Python 3"
    },
    "language_info": {
      "name": "python"
    }
  },
  "cells": [
    {
      "cell_type": "markdown",
      "metadata": {
        "id": "view-in-github",
        "colab_type": "text"
      },
      "source": [
        "<a href=\"https://colab.research.google.com/github/subhedarsoham18/Stock-Portfolio-Tracker/blob/main/Stock_Portfolio_Tracker.ipynb\" target=\"_parent\"><img src=\"https://colab.research.google.com/assets/colab-badge.svg\" alt=\"Open In Colab\"/></a>"
      ]
    },
    {
      "cell_type": "code",
      "execution_count": 1,
      "metadata": {
        "colab": {
          "base_uri": "https://localhost:8080/"
        },
        "id": "GRudwDq0UWQh",
        "outputId": "6ac5e3f7-1549-4627-eb76-b85bf5538d32"
      },
      "outputs": [
        {
          "output_type": "stream",
          "name": "stdout",
          "text": [
            "📈 Stock Portfolio Summary\n",
            "\n",
            "Stock  Shares Price      Value     \n",
            "AAPL   10     $180.50     $1805.00   \n",
            "GOOGL  2      $2800.00    $5600.00   \n",
            "MSFT   5      $350.00     $1750.00   \n",
            "TSLA   3      $720.00     $2160.00   \n",
            "AMZN   4      $135.50     $542.00    \n",
            "\n",
            "💰 Total Investment: $11857.00\n"
          ]
        }
      ],
      "source": [
        "\n",
        "stock_prices = {\n",
        "    \"AAPL\": 180.50,\n",
        "    \"GOOGL\": 2800.00,\n",
        "    \"MSFT\": 350.00,\n",
        "    \"TSLA\": 720.00,\n",
        "    \"AMZN\": 135.50\n",
        "}\n",
        "\n",
        "portfolio = {\n",
        "    \"AAPL\": 10,\n",
        "    \"GOOGL\": 2,\n",
        "    \"MSFT\": 5,\n",
        "    \"TSLA\": 3,\n",
        "    \"AMZN\": 4\n",
        "}\n",
        "\n",
        "total_investment = 0\n",
        "\n",
        "print(\"📈 Stock Portfolio Summary\\n\")\n",
        "print(f\"{'Stock':<6} {'Shares':<6} {'Price':<10} {'Value':<10}\")\n",
        "\n",
        "for stock, shares in portfolio.items():\n",
        "    price = stock_prices.get(stock, 0)\n",
        "    value = shares * price\n",
        "    total_investment += value\n",
        "    print(f\"{stock:<6} {shares:<6} ${price:<10.2f} ${value:<10.2f}\")\n",
        "\n",
        "print(f\"\\n💰 Total Investment: ${total_investment:.2f}\")\n"
      ]
    }
  ]
}